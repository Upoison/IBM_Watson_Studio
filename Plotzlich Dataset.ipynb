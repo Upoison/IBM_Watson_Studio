{
    "cells": [
        {
            "cell_type": "markdown",
            "metadata": {
                "collapsed": true
            },
            "source": "# My Jupyter Notebook on IBM Watson Studio"
        },
        {
            "cell_type": "markdown",
            "metadata": {},
            "source": "## David Garzon I use to Stuy electrical engineering and I work in a company that provide Cloud Computing support for banks, restaurants and many more, Plotzlich hahahahha"
        },
        {
            "cell_type": "markdown",
            "metadata": {},
            "source": "### I am interested in data science because I would like to interact close enough with data and get conclution that can help me to resolve issues in my carrer "
        },
        {
            "cell_type": "markdown",
            "metadata": {},
            "source": "#### My code skills will be required for get solutions to clients with their platforms"
        },
        {
            "cell_type": "code",
            "execution_count": 5,
            "metadata": {},
            "outputs": [
                {
                    "data": {
                        "text/plain": "37"
                    },
                    "execution_count": 5,
                    "metadata": {},
                    "output_type": "execute_result"
                }
            ],
            "source": " 4567 // 123"
        },
        {
            "cell_type": "markdown",
            "metadata": {},
            "source": "https://dataplatform.cloud.ibm.com/analytics/notebooks/v2/dd5818b6-30ef-4321-83c9-19442858669b?projectid=5fa879e8-015b-4303-9cde-ff5f2985748b&context=cpdaas"
        },
        {
            "cell_type": "code",
            "execution_count": null,
            "metadata": {},
            "outputs": [],
            "source": ""
        }
    ],
    "metadata": {
        "kernelspec": {
            "display_name": "Python 3.9",
            "language": "python",
            "name": "python3"
        },
        "language_info": {
            "codemirror_mode": {
                "name": "ipython",
                "version": 3
            },
            "file_extension": ".py",
            "mimetype": "text/x-python",
            "name": "python",
            "nbconvert_exporter": "python",
            "pygments_lexer": "ipython3",
            "version": "3.9.12"
        }
    },
    "nbformat": 4,
    "nbformat_minor": 1
}